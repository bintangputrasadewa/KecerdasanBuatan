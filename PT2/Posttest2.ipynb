{
 "cells": [
  {
   "cell_type": "markdown",
   "metadata": {},
   "source": [
    "## Bintang Putra Sadewa\n",
    "### 2209106110\n",
    "Posttest 2"
   ]
  },
  {
   "cell_type": "markdown",
   "metadata": {},
   "source": [
    "### Import Library dan baca Dataset"
   ]
  },
  {
   "cell_type": "code",
   "execution_count": null,
   "metadata": {},
   "outputs": [],
   "source": [
    "import pandas as pd\n",
    "import numpy as np\n",
    "import matplotlib.pyplot as plt\n",
    "import seaborn as sns\n",
    "\n",
    "df = pd.read_csv('drug200.csv')\n",
    "\n",
    "df\n"
   ]
  },
  {
   "cell_type": "markdown",
   "metadata": {},
   "source": [
    "### 1. Tampilkan rata-rata, standar deviasi, nilai minimum, nilai maksimum, Q1, Q2, dan Q3 dari attribute bertipe angka"
   ]
  },
  {
   "cell_type": "code",
   "execution_count": null,
   "metadata": {},
   "outputs": [],
   "source": [
    "kolom_numerik = ['Age', 'Na_to_K']\n",
    "\n",
    "statistik = df[kolom_numerik].describe(percentiles=[0.25, 0.5, 0.75])\n",
    "print(statistik)\n"
   ]
  },
  {
   "cell_type": "markdown",
   "metadata": {},
   "source": [
    "### 2. Tampilkan 10 record pertama dari dataset dengan attribute bertipe angka."
   ]
  },
  {
   "cell_type": "code",
   "execution_count": null,
   "metadata": {},
   "outputs": [],
   "source": [
    "print(df[kolom_numerik].head(10))"
   ]
  },
  {
   "cell_type": "markdown",
   "metadata": {},
   "source": [
    "### 3. Tampilkan informasi jumlah record, jumlah attribute, nama attribute, jumlah attribute dengan tipe angka."
   ]
  },
  {
   "cell_type": "code",
   "execution_count": null,
   "metadata": {},
   "outputs": [],
   "source": [
    "record = df.shape[0]\n",
    "attribut = df.shape[1]\n",
    "nama_attribut = df.columns.tolist()\n",
    "Jumlah_Attribut = len(kolom_numerik)\n",
    "\n",
    "print(f\"Jumlah record: {record}\")\n",
    "print(f\"Jumlah attribute: {attribut}\")\n",
    "print(f\"Nama attribute: {nama_attribut}\")\n",
    "print(f\"Jumlah attribute bertipe angka: {Jumlah_Attribut}\")\n"
   ]
  },
  {
   "cell_type": "markdown",
   "metadata": {},
   "source": [
    "### 4. Tampilkan jumlah label dari semua attribute yang bernilai object (contoh : Jenis Kelamin, Agama)."
   ]
  },
  {
   "cell_type": "code",
   "execution_count": null,
   "metadata": {},
   "outputs": [],
   "source": [
    "kategori_kolom = df.select_dtypes(include=['object']).columns\n",
    "kategori_counts = df[kategori_kolom].nunique()\n",
    "\n",
    "print(kategori_counts)\n"
   ]
  },
  {
   "cell_type": "markdown",
   "metadata": {},
   "source": [
    "### 5. Visualisasikan dataset dengan salah satu grafik. Pilih grafik yang paling cocok untuk memvisualisasikan data tersebut."
   ]
  },
  {
   "cell_type": "code",
   "execution_count": null,
   "metadata": {},
   "outputs": [],
   "source": [
    "plt.figure(figsize=(10, 6))\n",
    "sns.countplot(x='Drug', data=df)\n",
    "plt.title(\"Distribusi Obat dalam Dataset\")\n",
    "plt.show()\n"
   ]
  },
  {
   "cell_type": "markdown",
   "metadata": {},
   "source": [
    "### 6. Tampilkan korelasi dataset menggunakan heatmap"
   ]
  },
  {
   "cell_type": "code",
   "execution_count": null,
   "metadata": {},
   "outputs": [],
   "source": [
    "correlation_matrix = df[kolom_numerik].corr()\n",
    "\n",
    "plt.figure(figsize=(8, 6))\n",
    "sns.heatmap(correlation_matrix, annot=True, cmap=\"coolwarm\", linewidths=0.5)\n",
    "plt.title(\"Heatmap Korelasi\")\n",
    "plt.show()\n"
   ]
  },
  {
   "cell_type": "markdown",
   "metadata": {},
   "source": [
    "### 7. Tulis kesimpulan dari hasil analisis dan visualisasi data "
   ]
  },
  {
   "cell_type": "markdown",
   "metadata": {},
   "source": [
    "- dari statistik deskriptif terlihat bahwa atribut Age memiliki nilai minimum 15 tahun dan maksimum 74 tahun, dengan rata-rata sekitar 44,91 tahun. Sedangkan untuk atribut Na_to_K, rentangnya berkisar antara 6,269 hingga 38,247 dengan rata-rata 16,083\n",
    "- visualisasi distribusi obat menunjukkan bahwa DrugY adalah obat yang paling sering diresepkan dalam dataset ini, diikuti oleh drugX, drugC, drugA, dan drugB\n",
    "- dataset berisi 200 record dengan 6 atribut, di mana 2 atribut **Age** dan **Na_to_K** bertipe numerik"
   ]
  }
 ],
 "metadata": {
  "kernelspec": {
   "display_name": "Python 3",
   "language": "python",
   "name": "python3"
  },
  "language_info": {
   "codemirror_mode": {
    "name": "ipython",
    "version": 3
   },
   "file_extension": ".py",
   "mimetype": "text/x-python",
   "name": "python",
   "nbconvert_exporter": "python",
   "pygments_lexer": "ipython3",
   "version": "3.12.4"
  }
 },
 "nbformat": 4,
 "nbformat_minor": 2
}
