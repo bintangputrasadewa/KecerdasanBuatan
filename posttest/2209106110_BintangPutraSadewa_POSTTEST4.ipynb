{
 "cells": [
  {
   "cell_type": "markdown",
   "metadata": {},
   "source": [
    "# Bintang Putra Sadewa\n",
    "### 2209106110"
   ]
  },
  {
   "cell_type": "markdown",
   "metadata": {},
   "source": [
    "## Import Library dan baca Dataset"
   ]
  },
  {
   "cell_type": "code",
   "execution_count": 16,
   "metadata": {},
   "outputs": [],
   "source": [
    "import pandas as pd\n",
    "import numpy as np\n",
    "from sklearn.model_selection import train_test_split\n",
    "from sklearn.preprocessing import LabelEncoder\n",
    "from sklearn.svm import SVC\n",
    "from sklearn.metrics import confusion_matrix, classification_report\n",
    "import seaborn as sns\n",
    "import matplotlib.pyplot as plt\n",
    "\n",
    "# Load dataset drug200.csv\n",
    "df = pd.read_csv('drug200.csv')"
   ]
  },
  {
   "cell_type": "markdown",
   "metadata": {},
   "source": [
    "## Preprocessing Data\n",
    "\n",
    "1. **Label Encoding:**\n",
    "   Dataset mengandung beberapa fitur kategorikal seperti `Sex`, `BP`, dan `Cholesterol`. Agar model Machine Learning dapat memahami data tersebut, kita perlu mengubah data kategorikal menjadi numerik. Oleh karena itu, kita menggunakan `LabelEncoder` dari `sklearn.preprocessing` untuk mengonversi:\n",
    "   \n",
    "   - `Sex`: Mengonversi kategori \"M\" (Male) dan \"F\" (Female) menjadi nilai numerik (0 dan 1).\n",
    "   - `BP`: Mengonversi kategori tekanan darah seperti \"LOW\", \"NORMAL\", dan \"HIGH\" menjadi nilai numerik.\n",
    "   - `Cholesterol`: Mengonversi tingkat kolesterol \"NORMAL\" dan \"HIGH\" menjadi nilai numerik.\n",
    "\n",
    "2. **Pemisahan Fitur dan Target:**\n",
    "   - **Fitur (X)**: Semua kolom kecuali kolom `Drug`, yaitu kolom `Age`, `Sex`, `BP`, `Cholesterol`, dan `Na_to_K`.\n",
    "   - **Target (y)**: Kolom `Drug`, yang merupakan label atau klasifikasi obat yang akan diprediksi oleh model.\n",
    "\n",
    "3. **Split Dataset:**\n",
    "   - Dataset dipecah menjadi dua bagian: 80% data digunakan untuk melatih model (`train set`) dan 20% sisanya digunakan untuk menguji model (`test set`)."
   ]
  },
  {
   "cell_type": "code",
   "execution_count": 17,
   "metadata": {},
   "outputs": [],
   "source": [
    "# Preprocessing\n",
    "le_sex = LabelEncoder()\n",
    "le_bp = LabelEncoder()\n",
    "le_cholesterol = LabelEncoder()\n",
    "\n",
    "df['Sex'] = le_sex.fit_transform(df['Sex'])\n",
    "df['BP'] = le_bp.fit_transform(df['BP'])\n",
    "df['Cholesterol'] = le_cholesterol.fit_transform(df['Cholesterol'])\n",
    "\n",
    "# Fitur dan target\n",
    "X = df.drop('Drug', axis=1)\n",
    "y = df['Drug']\n",
    "\n",
    "# Split dataset\n",
    "X_train, X_test, y_train, y_test = train_test_split(X, y, test_size=0.2, random_state=42)"
   ]
  },
  {
   "cell_type": "markdown",
   "metadata": {},
   "source": [
    "## Implementasi Support Vector Classifier (SVC)\n",
    "\n",
    "**Membuat Model SVC:**\n",
    "   - Model **Support Vector Classifier** digunakan untuk melakukan klasifikasi dengan menggunakan algoritma Support Vector Machine (SVM).\n",
    "   - **Kernel Linear** dipilih untuk SVC, yang berarti bahwa model akan mencoba memisahkan data ke dalam kelas-kelas menggunakan garis linear. Kernel linear cocok ketika data cukup terpisah dengan jelas.\n",
    "   - **fit()**: Model SVC dilatih menggunakan dataset training (`X_train` dan `y_train`) agar model mampu mempelajari pola yang terdapat dalam data.\n",
    "\n"
   ]
  },
  {
   "cell_type": "code",
   "execution_count": null,
   "metadata": {},
   "outputs": [],
   "source": [
    "# Implementasi Support Vector Classifier (SVC)\n",
    "svc_model = SVC(kernel='linear')\n",
    "svc_model.fit(X_train, y_train)\n",
    "y_pred_svc = svc_model.predict(X_test)\n",
    "\n",
    "# Evaluasi: Confusion Matrix\n",
    "cm = confusion_matrix(y_test, y_pred_svc)\n",
    "print(\"Confusion Matrix - SVM\")\n",
    "print(cm)"
   ]
  },
  {
   "cell_type": "code",
   "execution_count": null,
   "metadata": {},
   "outputs": [],
   "source": [
    "# Evaluasi: Classification Report\n",
    "print(\"Classification Report - SVM\")\n",
    "print(classification_report(y_test, y_pred_svc))"
   ]
  },
  {
   "cell_type": "markdown",
   "metadata": {},
   "source": [
    "## Regresi"
   ]
  },
  {
   "cell_type": "markdown",
   "metadata": {},
   "source": [
    "1. **`y_test_reg`**: Array `[3, -0.5, 2, 7]` merepresentasikan nilai target yang sebenarnya (atau dikenal sebagai nilai \"ground truth\").\n",
    "   \n",
    "2. **`y_pred_reg`**: Array `[2.5, 0.0, 2, 8]` adalah prediksi model untuk nilai-nilai target tersebut."
   ]
  },
  {
   "cell_type": "code",
   "execution_count": null,
   "metadata": {},
   "outputs": [],
   "source": [
    "import numpy as np\n",
    "from sklearn.metrics import mean_absolute_error, mean_squared_error, r2_score\n",
    "\n",
    "# Contoh data regresi\n",
    "y_test_reg = np.array([3, -0.5, 2, 7])\n",
    "y_pred_reg = np.array([2.5, 0.0, 2, 8])\n",
    "\n",
    "# Evaluasi\n",
    "print(\"MAE :\", mean_absolute_error(y_test_reg, y_pred_reg))\n",
    "print(\"MSE :\", mean_squared_error(y_test_reg, y_pred_reg))\n",
    "print(\"RMSE :\", np.sqrt(mean_squared_error(y_test_reg, y_pred_reg)))\n",
    "print(\"R-Squared :\", r2_score(y_test_reg, y_pred_reg))"
   ]
  },
  {
   "cell_type": "markdown",
   "metadata": {},
   "source": [
    "## Confusion Matrix"
   ]
  },
  {
   "cell_type": "code",
   "execution_count": null,
   "metadata": {},
   "outputs": [],
   "source": [
    "# Visualisasi Confusion Matrix\n",
    "plt.figure(figsize=(8,6))\n",
    "sns.heatmap(cm, annot=True, fmt=\"d\", cmap=\"Blues\") \n",
    "plt.title(\"Confusion Matrix - SVM\")\n",
    "plt.ylabel('True Label')\n",
    "plt.xlabel('Predicted Label')\n",
    "plt.show()"
   ]
  },
  {
   "cell_type": "markdown",
   "metadata": {},
   "source": [
    "## Scatter"
   ]
  },
  {
   "cell_type": "code",
   "execution_count": null,
   "metadata": {},
   "outputs": [],
   "source": [
    "# Membuat bar plot distribusi kelas\n",
    "plt.figure(figsize=(10, 6))\n",
    "plt.scatter(range(len(y_test)), y_test, color='blue', label='Target Asli')\n",
    "plt.scatter(range(len(y_pred_svc)), y_pred_svc, color='red', marker='x', label='Prediksi')\n",
    "plt.title(\"Perbandingan Target Asli dan Prediksi\")\n",
    "plt.xlabel(\"Indeks Data\")\n",
    "plt.ylabel(\"Kelas\")\n",
    "plt.legend()\n",
    "plt.grid(True)\n",
    "plt.show()"
   ]
  }
 ],
 "metadata": {
  "language_info": {
   "name": "python"
  }
 },
 "nbformat": 4,
 "nbformat_minor": 2
}
