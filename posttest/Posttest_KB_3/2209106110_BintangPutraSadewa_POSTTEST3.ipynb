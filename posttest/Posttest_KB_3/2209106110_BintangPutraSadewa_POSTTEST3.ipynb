{
 "cells": [
  {
   "cell_type": "markdown",
   "metadata": {},
   "source": [
    "# Bintang Putra Sadewa\n",
    "### 2209106110"
   ]
  },
  {
   "cell_type": "markdown",
   "metadata": {},
   "source": [
    "## Import Library dan baca Dataset"
   ]
  },
  {
   "cell_type": "code",
   "execution_count": 1,
   "metadata": {},
   "outputs": [
    {
     "data": {
      "text/html": [
       "<div>\n",
       "<style scoped>\n",
       "    .dataframe tbody tr th:only-of-type {\n",
       "        vertical-align: middle;\n",
       "    }\n",
       "\n",
       "    .dataframe tbody tr th {\n",
       "        vertical-align: top;\n",
       "    }\n",
       "\n",
       "    .dataframe thead th {\n",
       "        text-align: right;\n",
       "    }\n",
       "</style>\n",
       "<table border=\"1\" class=\"dataframe\">\n",
       "  <thead>\n",
       "    <tr style=\"text-align: right;\">\n",
       "      <th></th>\n",
       "      <th>Age</th>\n",
       "      <th>Sex</th>\n",
       "      <th>BP</th>\n",
       "      <th>Cholesterol</th>\n",
       "      <th>Na_to_K</th>\n",
       "      <th>Drug</th>\n",
       "    </tr>\n",
       "  </thead>\n",
       "  <tbody>\n",
       "    <tr>\n",
       "      <th>0</th>\n",
       "      <td>23</td>\n",
       "      <td>F</td>\n",
       "      <td>HIGH</td>\n",
       "      <td>HIGH</td>\n",
       "      <td>25.355</td>\n",
       "      <td>DrugY</td>\n",
       "    </tr>\n",
       "    <tr>\n",
       "      <th>1</th>\n",
       "      <td>47</td>\n",
       "      <td>M</td>\n",
       "      <td>LOW</td>\n",
       "      <td>HIGH</td>\n",
       "      <td>13.093</td>\n",
       "      <td>drugC</td>\n",
       "    </tr>\n",
       "    <tr>\n",
       "      <th>2</th>\n",
       "      <td>47</td>\n",
       "      <td>M</td>\n",
       "      <td>LOW</td>\n",
       "      <td>HIGH</td>\n",
       "      <td>10.114</td>\n",
       "      <td>drugC</td>\n",
       "    </tr>\n",
       "    <tr>\n",
       "      <th>3</th>\n",
       "      <td>28</td>\n",
       "      <td>F</td>\n",
       "      <td>NORMAL</td>\n",
       "      <td>HIGH</td>\n",
       "      <td>7.798</td>\n",
       "      <td>drugX</td>\n",
       "    </tr>\n",
       "    <tr>\n",
       "      <th>4</th>\n",
       "      <td>61</td>\n",
       "      <td>F</td>\n",
       "      <td>LOW</td>\n",
       "      <td>HIGH</td>\n",
       "      <td>18.043</td>\n",
       "      <td>DrugY</td>\n",
       "    </tr>\n",
       "    <tr>\n",
       "      <th>...</th>\n",
       "      <td>...</td>\n",
       "      <td>...</td>\n",
       "      <td>...</td>\n",
       "      <td>...</td>\n",
       "      <td>...</td>\n",
       "      <td>...</td>\n",
       "    </tr>\n",
       "    <tr>\n",
       "      <th>195</th>\n",
       "      <td>56</td>\n",
       "      <td>F</td>\n",
       "      <td>LOW</td>\n",
       "      <td>HIGH</td>\n",
       "      <td>11.567</td>\n",
       "      <td>drugC</td>\n",
       "    </tr>\n",
       "    <tr>\n",
       "      <th>196</th>\n",
       "      <td>16</td>\n",
       "      <td>M</td>\n",
       "      <td>LOW</td>\n",
       "      <td>HIGH</td>\n",
       "      <td>12.006</td>\n",
       "      <td>drugC</td>\n",
       "    </tr>\n",
       "    <tr>\n",
       "      <th>197</th>\n",
       "      <td>52</td>\n",
       "      <td>M</td>\n",
       "      <td>NORMAL</td>\n",
       "      <td>HIGH</td>\n",
       "      <td>9.894</td>\n",
       "      <td>drugX</td>\n",
       "    </tr>\n",
       "    <tr>\n",
       "      <th>198</th>\n",
       "      <td>23</td>\n",
       "      <td>M</td>\n",
       "      <td>NORMAL</td>\n",
       "      <td>NORMAL</td>\n",
       "      <td>14.020</td>\n",
       "      <td>drugX</td>\n",
       "    </tr>\n",
       "    <tr>\n",
       "      <th>199</th>\n",
       "      <td>40</td>\n",
       "      <td>F</td>\n",
       "      <td>LOW</td>\n",
       "      <td>NORMAL</td>\n",
       "      <td>11.349</td>\n",
       "      <td>drugX</td>\n",
       "    </tr>\n",
       "  </tbody>\n",
       "</table>\n",
       "<p>200 rows × 6 columns</p>\n",
       "</div>"
      ],
      "text/plain": [
       "     Age Sex      BP Cholesterol  Na_to_K   Drug\n",
       "0     23   F    HIGH        HIGH   25.355  DrugY\n",
       "1     47   M     LOW        HIGH   13.093  drugC\n",
       "2     47   M     LOW        HIGH   10.114  drugC\n",
       "3     28   F  NORMAL        HIGH    7.798  drugX\n",
       "4     61   F     LOW        HIGH   18.043  DrugY\n",
       "..   ...  ..     ...         ...      ...    ...\n",
       "195   56   F     LOW        HIGH   11.567  drugC\n",
       "196   16   M     LOW        HIGH   12.006  drugC\n",
       "197   52   M  NORMAL        HIGH    9.894  drugX\n",
       "198   23   M  NORMAL      NORMAL   14.020  drugX\n",
       "199   40   F     LOW      NORMAL   11.349  drugX\n",
       "\n",
       "[200 rows x 6 columns]"
      ]
     },
     "execution_count": 1,
     "metadata": {},
     "output_type": "execute_result"
    }
   ],
   "source": [
    "import pandas as pd\n",
    "import numpy as np\n",
    "import matplotlib.pyplot as plt\n",
    "import seaborn as sns\n",
    "\n",
    "df = pd.read_csv('drug200.csv')\n",
    "\n",
    "df"
   ]
  },
  {
   "cell_type": "markdown",
   "metadata": {},
   "source": [
    "## 1. Data Cleaning"
   ]
  },
  {
   "cell_type": "code",
   "execution_count": 2,
   "metadata": {},
   "outputs": [
    {
     "name": "stdout",
     "output_type": "stream",
     "text": [
      "Missing VAlue Per Kolom: \n",
      "Age            0\n",
      "Sex            0\n",
      "BP             0\n",
      "Cholesterol    0\n",
      "Na_to_K        0\n",
      "Drug           0\n",
      "dtype: int64\n"
     ]
    }
   ],
   "source": [
    "missing_values = df.isnull().sum()\n",
    "print(\"Missing VAlue Per Kolom: \")\n",
    "print(missing_values)"
   ]
  },
  {
   "cell_type": "markdown",
   "metadata": {},
   "source": [
    "## 2. Normalisasi/standarisasi kolom numerik"
   ]
  },
  {
   "cell_type": "code",
   "execution_count": 3,
   "metadata": {},
   "outputs": [
    {
     "name": "stdout",
     "output_type": "stream",
     "text": [
      "     Na_to_K  Na_to_K_normalized\n",
      "0     25.355            0.596848\n",
      "1     13.093            0.213397\n",
      "2     10.114            0.120239\n",
      "3      7.798            0.047814\n",
      "4     18.043            0.368191\n",
      "..       ...                 ...\n",
      "195   11.567            0.165676\n",
      "196   12.006            0.179405\n",
      "197    9.894            0.113359\n",
      "198   14.020            0.242385\n",
      "199   11.349            0.158859\n",
      "\n",
      "[200 rows x 2 columns]\n"
     ]
    }
   ],
   "source": [
    "from sklearn.preprocessing import MinMaxScaler\n",
    "\n",
    "# Inisialisasi MinMaxScaler untuk normalisasi (rentang 0-1)\n",
    "scaler = MinMaxScaler()\n",
    "\n",
    "# Normalisasi kolom 'Na_to_K'\n",
    "df['Na_to_K_normalized'] = scaler.fit_transform(df[['Na_to_K']])\n",
    "\n",
    "print(df[['Na_to_K', 'Na_to_K_normalized']])"
   ]
  },
  {
   "cell_type": "markdown",
   "metadata": {},
   "source": [
    "## 3. Encoding kolom kategorikal"
   ]
  },
  {
   "cell_type": "code",
   "execution_count": 4,
   "metadata": {},
   "outputs": [
    {
     "name": "stdout",
     "output_type": "stream",
     "text": [
      "    Sex  Sex_encoded      BP  BP_encoded Cholesterol  Cholesterol_encoded  \\\n",
      "0     F            0    HIGH           0        HIGH                    0   \n",
      "1     M            1     LOW           1        HIGH                    0   \n",
      "2     M            1     LOW           1        HIGH                    0   \n",
      "3     F            0  NORMAL           2        HIGH                    0   \n",
      "4     F            0     LOW           1        HIGH                    0   \n",
      "..   ..          ...     ...         ...         ...                  ...   \n",
      "195   F            0     LOW           1        HIGH                    0   \n",
      "196   M            1     LOW           1        HIGH                    0   \n",
      "197   M            1  NORMAL           2        HIGH                    0   \n",
      "198   M            1  NORMAL           2      NORMAL                    1   \n",
      "199   F            0     LOW           1      NORMAL                    1   \n",
      "\n",
      "      Drug  Drug_encoded  \n",
      "0    DrugY             0  \n",
      "1    drugC             3  \n",
      "2    drugC             3  \n",
      "3    drugX             4  \n",
      "4    DrugY             0  \n",
      "..     ...           ...  \n",
      "195  drugC             3  \n",
      "196  drugC             3  \n",
      "197  drugX             4  \n",
      "198  drugX             4  \n",
      "199  drugX             4  \n",
      "\n",
      "[200 rows x 8 columns]\n"
     ]
    }
   ],
   "source": [
    "from sklearn.preprocessing import LabelEncoder\n",
    "\n",
    "# Inisialisasi LabelEncoder\n",
    "label_encoder = LabelEncoder()\n",
    "\n",
    "# Encoding kolom kategorikal 'Sex', 'BP', 'Cholesterol', dan 'Drug'\n",
    "df['Sex_encoded'] = label_encoder.fit_transform(df['Sex'])\n",
    "df['BP_encoded'] = label_encoder.fit_transform(df['BP'])\n",
    "df['Cholesterol_encoded'] = label_encoder.fit_transform(df['Cholesterol'])\n",
    "df['Drug_encoded'] = label_encoder.fit_transform(df['Drug'])\n",
    "\n",
    "# Menampilkan kolom baru setelah encoding\n",
    "print(df[['Sex', 'Sex_encoded', 'BP', 'BP_encoded', 'Cholesterol', 'Cholesterol_encoded', 'Drug', 'Drug_encoded']])"
   ]
  },
  {
   "cell_type": "code",
   "execution_count": 5,
   "metadata": {},
   "outputs": [
    {
     "name": "stdout",
     "output_type": "stream",
     "text": [
      "   Age  Na_to_K  Na_to_K_normalized  Sex_encoded  BP_encoded  \\\n",
      "0   23   25.355            0.596848            0           0   \n",
      "1   47   13.093            0.213397            1           1   \n",
      "2   47   10.114            0.120239            1           1   \n",
      "3   28    7.798            0.047814            0           2   \n",
      "4   61   18.043            0.368191            0           1   \n",
      "\n",
      "   Cholesterol_encoded  Drug_encoded  Sex_F  Sex_M  BP_HIGH  BP_LOW  \\\n",
      "0                    0             0   True  False     True   False   \n",
      "1                    0             3  False   True    False    True   \n",
      "2                    0             3  False   True    False    True   \n",
      "3                    0             4   True  False    False   False   \n",
      "4                    0             0   True  False    False    True   \n",
      "\n",
      "   BP_NORMAL  Cholesterol_HIGH  Cholesterol_NORMAL  Drug_DrugY  Drug_drugA  \\\n",
      "0      False              True               False        True       False   \n",
      "1      False              True               False       False       False   \n",
      "2      False              True               False       False       False   \n",
      "3       True              True               False       False       False   \n",
      "4      False              True               False        True       False   \n",
      "\n",
      "   Drug_drugB  Drug_drugC  Drug_drugX  \n",
      "0       False       False       False  \n",
      "1       False        True       False  \n",
      "2       False        True       False  \n",
      "3       False       False        True  \n",
      "4       False       False       False  \n"
     ]
    }
   ],
   "source": [
    "# Menggunakan pandas get_dummies untuk one-hot encoding\n",
    "df_oneHot = pd.get_dummies(df, columns=['Sex', 'BP', 'Cholesterol', 'Drug'])\n",
    "\n",
    "# Menampilkan hasil one-hot encoding\n",
    "print(df_oneHot.head())"
   ]
  },
  {
   "cell_type": "markdown",
   "metadata": {},
   "source": [
    "## 4. Feature engineering (minimal 1 feature baru)"
   ]
  },
  {
   "cell_type": "code",
   "execution_count": 6,
   "metadata": {},
   "outputs": [
    {
     "name": "stdout",
     "output_type": "stream",
     "text": [
      "     Na_to_K Cholesterol  Na_to_Cholesterol_ratio\n",
      "0     25.355        HIGH                  12.6775\n",
      "1     13.093        HIGH                   6.5465\n",
      "2     10.114        HIGH                   5.0570\n",
      "3      7.798        HIGH                   3.8990\n",
      "4     18.043        HIGH                   9.0215\n",
      "..       ...         ...                      ...\n",
      "195   11.567        HIGH                   5.7835\n",
      "196   12.006        HIGH                   6.0030\n",
      "197    9.894        HIGH                   4.9470\n",
      "198   14.020      NORMAL                  14.0200\n",
      "199   11.349      NORMAL                  11.3490\n",
      "\n",
      "[200 rows x 3 columns]\n"
     ]
    }
   ],
   "source": [
    "# Kita akan menganggap 'HIGH' pada kolesterol sebagai 2, 'NORMAL' sebagai 1\n",
    "df['Cholesterol_num'] = df['Cholesterol'].apply(lambda x: 2 if x == 'HIGH' else 1)\n",
    "\n",
    "# Membuat fitur baru 'Na_to_Cholesterol_ratio'\n",
    "df['Na_to_Cholesterol_ratio'] = df['Na_to_K'] / df['Cholesterol_num']\n",
    "\n",
    "# Menampilkan hasil dari fitur baru\n",
    "print(df[['Na_to_K', 'Cholesterol', 'Na_to_Cholesterol_ratio']])"
   ]
  },
  {
   "cell_type": "markdown",
   "metadata": {},
   "source": [
    "## 5. Splitting data ke dalam data training & data testing"
   ]
  },
  {
   "cell_type": "code",
   "execution_count": 7,
   "metadata": {},
   "outputs": [
    {
     "name": "stdout",
     "output_type": "stream",
     "text": [
      "Ukuran data training: (160, 12)\n",
      "Ukuran data testing: (40, 12)\n"
     ]
    }
   ],
   "source": [
    "from sklearn.model_selection import train_test_split\n",
    "\n",
    "# Memisahkan feature (X) dan target (y) menggunakan iloc\n",
    "X = df.iloc[:, :-1]  # Feature\n",
    "y = df.iloc[:, -1]   # target\n",
    "\n",
    "X_train, X_test, y_train, y_test = train_test_split(X, y, test_size=0.2, random_state=42)\n",
    "\n",
    "# Menampilkan ukuran data training dan data testing\n",
    "print(\"Ukuran data training:\", X_train.shape)\n",
    "print(\"Ukuran data testing:\", X_test.shape)"
   ]
  }
 ],
 "metadata": {
  "kernelspec": {
   "display_name": "Python 3",
   "language": "python",
   "name": "python3"
  },
  "language_info": {
   "codemirror_mode": {
    "name": "ipython",
    "version": 3
   },
   "file_extension": ".py",
   "mimetype": "text/x-python",
   "name": "python",
   "nbconvert_exporter": "python",
   "pygments_lexer": "ipython3",
   "version": "3.12.4"
  }
 },
 "nbformat": 4,
 "nbformat_minor": 2
}
